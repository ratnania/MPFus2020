{
 "cells": [
  {
   "cell_type": "code",
   "execution_count": 1,
   "metadata": {
    "scrolled": false
   },
   "outputs": [],
   "source": [
    "import numpy as np\n",
    "import matplotlib.pyplot as plt"
   ]
  },
  {
   "cell_type": "markdown",
   "metadata": {},
   "source": [
    "# Maxwell's equations on a periodic 1D grid of $[0,L]$\n",
    "\n",
    "Consider the homogeneous 1D Maxwell equations on our periodic domain\n",
    "\n",
    "\\begin{equation}\n",
    "\\left\\{\n",
    "\\begin{split}\n",
    "\\frac{\\partial E}{\\partial t} + \\frac{\\partial B}{\\partial x} &= 0, \\\\\n",
    "\\frac{\\partial B}{\\partial t} + \\frac{\\partial E}{\\partial x} &= 0,\n",
    "\\end{split}\n",
    "\\right.\n",
    "\\end{equation}\n",
    "\n",
    "with initial conditions $E(t=0,x) = E_0(x)$ and $B(t=0,x) = B_0(x)$.\n",
    "\n",
    "## Exact solution\n",
    "\n",
    "By summing or subtracting Amperè's and Faraday's laws, one obtains two decoupled scalar advection equations\n",
    "\n",
    "\\begin{equation}\n",
    "\\left(\\frac{\\partial}{\\partial t} + \\frac{\\partial}{\\partial x}\\right) v_1 = 0,\n",
    "\\qquad\n",
    "\\left(\\frac{\\partial}{\\partial t} - \\frac{\\partial}{\\partial x}\\right) v_2 = 0,\n",
    "\\end{equation}\n",
    "\n",
    "where we have introduced the fields\n",
    "\n",
    "\\begin{equation}\n",
    "\\begin{matrix}\n",
    "v_1 := E + B \\\\\n",
    "v_2 := E - B\n",
    "\\end{matrix}\n",
    "\\qquad\n",
    "\\text{so that}\n",
    "\\qquad\n",
    "\\begin{matrix}\n",
    "E = \\dfrac{v_1 + v_2}{2} \\\\\n",
    "B = \\dfrac{v_1 - v_2}{2}\n",
    "\\end{matrix}\n",
    "\\end{equation}\n",
    "\n",
    "The exact solution to these equations are traveling waves with propagation velocity $\\lambda_{1} = 1$ and $\\lambda_{2} = -1$, respectively:\n",
    "\n",
    "\\begin{equation}\n",
    "v_1(t,x) = v_1(0,x-t),\n",
    "\\qquad\n",
    "v_2(t,x) = v_2(0,x+t).\n",
    "\\end{equation}\n",
    "\n",
    "Clearly, $v_{1,2} = E \\pm B$ are the __eigenvectors__ of the 1D Maxwell equations, and $\\lambda_{1,2} = \\pm 1$ are the corresponding __eigenvalues__.\n",
    "\n",
    "It is now possible to write the exact solution of the 1D Maxwell equations by converting the initial conditions $E(0,x)$ and $B(0,x)$ into the eigenvectors $v_{1,2}(0,x)$, then solving for $v_{1,2}(t,x)$, and finally converting back to $E(t,x)$ and $B(t,x)$. These three steps can be combined to give\n",
    "\n",
    "\\begin{align}\n",
    "E(t,x) &= \\frac{1}{2}\\big[ E_0(x-t) + E_0(x+t) \\big]\n",
    "        + \\frac{1}{2}\\big[ B_0(x-t) - B_0(x+t) \\big], \\\\\n",
    "B(t,x) &= \\frac{1}{2}\\big[ B_0(x-t) + B_0(x+t) \\big]\n",
    "        + \\frac{1}{2}\\big[ E_0(x-t) - E_0(x+t) \\big].\n",
    "\\end{align}"
   ]
  },
  {
   "cell_type": "code",
   "execution_count": 2,
   "metadata": {},
   "outputs": [],
   "source": [
    "def exact_solution(E0, B0):\n",
    "    E = lambda t, x : 0.5 * (E0(x - t) + E0(x + t) + B0(x - t) - B0(x + t))\n",
    "    B = lambda t, x : 0.5 * (B0(x - t) + B0(x + t) + E0(x - t) - E0(x + t))\n",
    "    return E, B"
   ]
  },
  {
   "cell_type": "code",
   "execution_count": 3,
   "metadata": {},
   "outputs": [
    {
     "data": {
      "image/png": "[encoded data removed]",
      "text/plain": [
       "<Figure size 432x288 with 1 Axes>"
      ]
     },
     "metadata": {
      "needs_background": "light"
     },
     "output_type": "display_data"
    }
   ],
   "source": [
    "# Domain\n",
    "x = np.linspace(0, 1, 101)\n",
    "\n",
    "# Number of periods in domain\n",
    "a = 3\n",
    "\n",
    "# Callable functions E(t,x) and B(t,x)\n",
    "E, B = exact_solution(\n",
    "    E0 = lambda x: np.cos((a*2*np.pi) * x),\n",
    "    B0 = lambda x: 0.0*np.cos((a*2*np.pi) * x)\n",
    ")\n",
    "\n",
    "def plot_exact_solution(t):\n",
    "    fig = plt.figure(10)\n",
    "    ax = fig.axes[0] if len(fig.axes) == 1 else fig.add_subplot(1, 1, 1)\n",
    "    while len(ax.lines) > 0:\n",
    "        ax.lines.pop()\n",
    "    ax.plot(x, E(t, x), 'b', label='E')\n",
    "    ax.plot(x, B(t, x), 'r--', label='B')\n",
    "    ax.legend(loc='upper right')\n",
    "    ax.set_ylim([-1.05, 1.05])\n",
    "    ax.set_xlabel('x')\n",
    "    ax.grid(True)\n",
    "    fig.canvas.draw()\n",
    "\n",
    "plot_exact_solution(0.2)"
   ]
  },
  {
   "cell_type": "markdown",
   "metadata": {},
   "source": [
    "## Some useful functions"
   ]
  },
  {
   "cell_type": "code",
   "execution_count": 4,
   "metadata": {},
   "outputs": [],
   "source": [
    "def step_E(dt, dx, E, B):\n",
    "    E += (dt / dx) * (np.roll(B, +1) - B)\n",
    "\n",
    "def step_B(dt, dx, E, B):\n",
    "    B += (dt / dx) * (E - np.roll(E, -1))"
   ]
  },
  {
   "cell_type": "code",
   "execution_count": 5,
   "metadata": {},
   "outputs": [],
   "source": [
    "def exact_solution(xmin, xmax, a):\n",
    "    \"\"\"\n",
    "    Manufacture a sinusoidal exact solution for the fields E(t,x) and B(t,x)\n",
    "    on a periodic domain [xmin, xmax].\n",
    "\n",
    "    Parameters\n",
    "    ----------\n",
    "    xmin : float\n",
    "        Left boundary of 1D domain.\n",
    "\n",
    "    xmax : float\n",
    "        Right boundary of 1D domain.\n",
    "\n",
    "    a : int\n",
    "        Number of wavelengths in domain.\n",
    "\n",
    "    Results\n",
    "    -------\n",
    "    f : callable\n",
    "        Exact solution f(t,x) for fields E and B.\n",
    "\n",
    "    \"\"\"\n",
    "    k = a * (2 * np.pi) / (xmax - xmin)\n",
    "    f = lambda t, x: np.sin(k * (x - t))\n",
    "\n",
    "    return f"
   ]
  },
  {
   "cell_type": "code",
   "execution_count": 6,
   "metadata": {},
   "outputs": [],
   "source": [
    "def energy(dx, E, B):\n",
    "    \"\"\" Compute total energy in domain given the fields E and B.\n",
    "    \"\"\"\n",
    "    return 0.5 * dx * (np.dot(E, E) + np.dot(B, B))"
   ]
  },
  {
   "cell_type": "markdown",
   "metadata": {},
   "source": [
    "# Standard method"
   ]
  },
  {
   "cell_type": "code",
   "execution_count": 7,
   "metadata": {},
   "outputs": [],
   "source": [
    "def standard_scheme(L, a, N, Cp, T, plot_interval):\n",
    "\n",
    "    #--------------------------------------------------------\n",
    "    # SETUP\n",
    "    #--------------------------------------------------------\n",
    "\n",
    "    # Exact solution\n",
    "    f = exact_solution(0, L, a)\n",
    "\n",
    "    # constructing the grid\n",
    "    dx     = L / N\n",
    "    x_prim = dx * np.arange(N)\n",
    "\n",
    "    # Time step size\n",
    "    dt = Cp * dx\n",
    "    \n",
    "    # number of time steps\n",
    "    nsteps = int(round(float(T)/dt))\n",
    "\n",
    "    # Initial time and initial conditions\n",
    "    t = 0\n",
    "    E = f(t, x_prim)  # solution array (E_{i})_i\n",
    "    B = f(t, x_prim)  # solution array (B_{i})_i\n",
    "\n",
    "    # Compute energy at t=0\n",
    "    ts = [t]\n",
    "    energies = [energy(dx, E, B)]\n",
    "\n",
    "\n",
    "    #--------------------------------------------------------\n",
    "    # SOLUTION\n",
    "    #--------------------------------------------------------\n",
    "\n",
    "    # Time loop\n",
    "    for i in range(nsteps):\n",
    "\n",
    "        # Advance both E and B by one time-step\n",
    "        step_B(dt, dx, E, B)  # Bring B from t - ∆t/2 to t + ∆t/2\n",
    "        step_E(dt, dx, E, B)  # Bring E from t to t + ∆t\n",
    "        t += dt\n",
    "\n",
    "        #... Diagnostics\n",
    "        if i % plot_interval == 0 or i == nsteps-1:\n",
    "\n",
    "            # Compute energy\n",
    "            ts.append(t)\n",
    "            energies.append(energy(dx, E, B))\n",
    "        #...\n",
    "    \n",
    "    plt.plot(ts, energies, '-b', label='Energy')\n",
    "    plt.legend();"
   ]
  },
  {
   "cell_type": "code",
   "execution_count": 8,
   "metadata": {},
   "outputs": [
    {
     "data": {
      "image/png": "[encoded data removed]",
      "text/plain": [
       "<Figure size 432x288 with 1 Axes>"
      ]
     },
     "metadata": {
      "needs_background": "light"
     },
     "output_type": "display_data"
    }
   ],
   "source": [
    "standard_scheme(L=1.0, a=3, N=100, Cp=0.75, T=1., plot_interval=1)"
   ]
  },
  {
   "cell_type": "markdown",
   "metadata": {},
   "source": [
    "**What happens when you increase Cp?**"
   ]
  },
  {
   "cell_type": "markdown",
   "metadata": {},
   "source": [
    "# Yee method"
   ]
  },
  {
   "cell_type": "markdown",
   "metadata": {},
   "source": [
    "## Staggered grid\n",
    "\n",
    "Consider the periodic 1D interval $[0, L]$. The primal grid consists of the nodes of a uniform grid of $N$ cells $x_j = j L~/N$ for $0\\le j < N$, and the dual grid consists of the midpoints of the cells $x_{j+1/2} = \\left(j+\\frac{1}{2}\\right) L~/N$ for $0\\le j < N$."
   ]
  },
  {
   "cell_type": "markdown",
   "metadata": {},
   "source": [
    "![title](images/staggered_grid.png)"
   ]
  },
  {
   "cell_type": "code",
   "execution_count": 9,
   "metadata": {},
   "outputs": [],
   "source": [
    "def staggered_grid(xmin, xmax, N):\n",
    "    \"\"\"\n",
    "    Create a uniform staggered grid on a 1D periodic domain.\n",
    "\n",
    "    Parameters\n",
    "    ----------\n",
    "    xmin : float\n",
    "        Left boundary of 1D domain.\n",
    "\n",
    "    xmax : float\n",
    "        Right boundary of 1D domain.\n",
    "\n",
    "    N : int\n",
    "        Number of cells in domain.\n",
    "\n",
    "    Results\n",
    "    -------\n",
    "    dx : float\n",
    "        Cell size.\n",
    "\n",
    "    x_prim : 1D numpy.ndarray\n",
    "        Coordinates of vertices of primal grid.\n",
    "\n",
    "    x_dual : 1D numpy.ndarray\n",
    "        Coordinates of vertices of dual grid.\n",
    "    \"\"\"\n",
    "\n",
    "    dx     = (xmax - xmin) / N\n",
    "    x_prim = dx * np.arange(N)\n",
    "    x_dual = x_prim + dx / 2\n",
    "\n",
    "    return dx, x_prim, x_dual"
   ]
  },
  {
   "cell_type": "markdown",
   "metadata": {
    "toc-hr-collapsed": false
   },
   "source": [
    "## Yee's scheme\n",
    "\n",
    "Given a time-step size $\\Delta t$, a staggered grid is also created in time:\n",
    "\n",
    "1. The primal grid has values $t_n = n\\Delta t$ for $n\\in\\mathbb{N}$;\n",
    "2. The dual grid has values $t_{n+1/2} = \\left(n +\\frac{1}{2}\\right)\\Delta t$ for $n\\in\\mathbb{N}$.\n",
    "\n",
    "Moreover:\n",
    "\n",
    "- The field $E$ is described by its point values on the ___primal___ space-time grid $(t_n, x_j)$;\n",
    "- The field $B$ is described by its point values on the ___dual___ space-time grid $(t_{n+1/2}, x_{j+1/2})$;\n",
    "- The time and spatial derivatives of $E$ and $B$ are approximated by 2nd-ordered centered finite difference formulas.\n",
    "\n",
    "We obtain therefore the following update formulas, to be applied consecutively:\n",
    "\n",
    "\\begin{align}\n",
    "%\n",
    "\\color{orange}{B^{n+1/2}_{j+1/2}} &= B^{n-1/2}_{j+1/2} +\n",
    "    \\frac{\\Delta t}{\\Delta x}\\left(E^{n}_{j} - E^{n}_{j+1}\\right),\n",
    "    \\qquad {0\\le j < N},\\\\\n",
    "%\n",
    "\\color{cyan}{E^{n+1}_{j}} &= E^n_{j} + \\frac{\\Delta t}{\\Delta x}\n",
    "    \\left(\\color{orange}{B^{n+1/2}_{j-1/2}} - \\color{orange}{B^{n+1/2}_{j+1/2}} \\right),\n",
    "    \\qquad {0\\le j < N}.\n",
    "%\n",
    "\\end{align}\n",
    "\n",
    "\n",
    "### Startup and shutdown\n",
    "\n",
    "Notice that at time $n=0$ one needs to compute the values $\\left\\{B^{-1/2}_{j+1/2}\\right\\}_j$ from the initial condition $\\left\\{B^{0}_{j+1/2}\\right\\}_j$ in order to start the scheme:\n",
    "\n",
    "\\begin{equation}\n",
    "  B^{-1/2}_{j+1/2} = B^0_{j+1/2} - \\frac{\\Delta t}{2\\Delta x}\n",
    "  \\left(E^{0}_{j} - E^{0}_{j+1}\\right),\n",
    "  \\qquad {0\\le j < N}.\n",
    "\\end{equation}\n",
    "\n",
    "Similarly, at the last time step $M$ one needs to compute the final solution $\\left\\{B^{M}_{j+1/2}\\right\\}_j$ from the previous values $\\left\\{B^{M-1/2}_{j+1/2}\\right\\}_j$:\n",
    "\n",
    "\\begin{equation}\n",
    "  B^{M}_{j+1/2} = B^{M-1/2}_{j+1/2} + \\frac{\\Delta t}{2\\Delta x}\n",
    "  \\left(E^{M}_{j} - E^{M}_{j+1}\\right),\n",
    "  \\qquad {0\\le j < N}.\n",
    "\\end{equation}\n",
    "\n",
    "In general, the operation of pushing the discrete $B$ field forward (and then backward) in time is required whenever the solution needs to be visualized.\n",
    "\n",
    "\n",
    "### Vector formulation\n",
    "\n",
    "If we define the (circulant) differentiation matrix $D \\in \\mathbb{R}^{N \\times N}$ as\n",
    "\n",
    "\\begin{equation}\n",
    "  D = \\frac{\\Delta t}{\\Delta x}~\n",
    "  \\begin{pmatrix}\n",
    "     1 &  0 & \\dots  & \\dots  & -1 \\\\\n",
    "    -1 &  1 &        &        &  0 \\\\\n",
    "     0 & -1 &  1     &        &    \\\\\n",
    "       &    & \\ddots & \\ddots &    \\\\\n",
    "     0 &    & \\ddots &   -1   &  1 \\\\\n",
    "  \\end{pmatrix}\n",
    "\\end{equation}\n",
    "\n",
    "we can write the Yee scheme as\n",
    "\n",
    "\\begin{align}\n",
    "%\n",
    "\\color{orange}{B^{n+1/2}} &= B^{n-1/2} + D^T~E^{n},\\\\\n",
    "%\n",
    "\\color{cyan}{E^{n+1}} &= E^n - D~\\color{orange}{B^{n+1/2}}.\n",
    "%\n",
    "\\end{align}"
   ]
  },
  {
   "cell_type": "markdown",
   "metadata": {},
   "source": [
    "### Energy conservation\n",
    "\n",
    "The electromagnetic energy in the continuous system at time $t$ is\n",
    "\n",
    "\\begin{equation}\n",
    "  W(t) = \\frac{1}{2} \\int_0^L \\left[ E^2(t) + B^2(t) \\right] dx,\n",
    "\\end{equation}\n",
    "\n",
    "which is constant in time thanks to the periodic boundary conditions. The Yee scheme cannot conserve the continuous energy $W$, but it exactly preserves a discrete energy $\\mathcal{W} \\approx W$ which will be defined as follows. Let's define the $L^2$ inner product\n",
    "\n",
    "\\begin{equation}\n",
    "\\langle u, v \\rangle_h = \\Delta x \\sum_{j=0}^{N-1} u_j v_j,\n",
    "\\end{equation}\n",
    "\n",
    "and notice that the dual operator of $D$ with respect to such inner product is $D^{T}$, that is\n",
    "\n",
    "\\begin{equation}\n",
    "\\langle D u, v \\rangle_h = \\langle u, D^{T} v \\rangle_h.\n",
    "\\end{equation}\n",
    "\n",
    "Let's consider the Yee update equations in vector form. If we take the inner product of the first equation with $\\left(B^{n+1/2}+B^{n-1/2}\\right)$, and the inner product of the second equation with $\\left(E^{n+1}+E^{n}\\right)$, after rearranging the terms we obtain\n",
    "\n",
    "\\begin{align}\n",
    "\\langle B^{n+1/2}, B^{n+1/2} \\rangle &= \n",
    "\\langle B^{n-1/2}, B^{n-1/2} \\rangle +\n",
    "\\langle B^{n+1/2}, D^{T}E^{n} \\rangle +\n",
    "\\langle B^{n-1/2}, D^{T}E^{n} \\rangle\n",
    "\\\\\n",
    "\\langle E^{n+1}, E^{n+1} \\rangle +\n",
    "\\langle D~B^{n+1/2}, E^{n+1}\\rangle &= \n",
    "\\langle E^{n}, E^{n} \\rangle -\n",
    "\\langle D~B^{n+1/2}, E^{n} \\rangle\n",
    "\\end{align}\n",
    "\n",
    "Summing these two equations side-by-side, and noticing that $\\langle D~B^{n+1/2}, E^{n}\\rangle = \\langle B^{n+1/2}, D^{T}E^{n} \\rangle$, we obtain\n",
    "\n",
    "\\begin{equation}\n",
    "\\big\\| E^{n+1} \\big\\| +\n",
    "\\big\\| B^{n+1/2} \\big\\| +\n",
    "\\left\\langle D~B^{n+1/2}, E^{n+1}\\right\\rangle\n",
    "\\,=\\,\n",
    "\\big\\| E^{n} \\big\\| +\n",
    "\\big\\| B^{n-1/2} \\big\\| +\n",
    "\\left\\langle D~B^{n-1/2}, E^{n} \\right\\rangle\n",
    "\\end{equation}\n",
    "\n",
    "which can be written as an _exact conservation_ $\\mathcal{W}^{n+1} = \\mathcal{W}^{n}$ for the discrete energy\n",
    "\n",
    "\\begin{equation}\n",
    "\\boxed{\n",
    "\\mathcal{W}^{n} :=\n",
    "\\frac{1}{2} \\big\\| E^{n} \\big\\|^2 +\n",
    "\\frac{1}{2} \\big\\| B^{n-1/2} \\big\\|^2 +\n",
    "\\frac{1}{2} \\left\\langle D~B^{n-1/2}, E^{n} \\right\\rangle\n",
    "}\n",
    "\\end{equation}\n",
    "\n",
    "Hence, the discrete energy $\\mathcal{W}^{n}$ as defined above is exactly conserved by the Yee scheme. An equivalent formula that uses the magnetic field at two successive time steps is\n",
    "\n",
    "\\begin{equation}\n",
    "\\mathcal{W}^{n} :=\n",
    "\\frac{1}{2} \\big\\langle E^{n}, E^{n} \\big\\rangle +\n",
    "\\frac{1}{2} \\big\\langle B^{n-1/2}, B^{n+1/2} \\big\\rangle\n",
    "\\end{equation}\n",
    "\n",
    "Using the formulas for the startup and shutdown of the Yee scheme, this can be rewritten as\n",
    "\n",
    "\\begin{equation}\n",
    "\\mathcal{W}^{n} :=\n",
    "\\frac{1}{2} \\big\\langle E^{n}, E^{n} \\big\\rangle +\n",
    "\\frac{1}{2} \\big\\langle B^{n} - \\frac{1}{2}D^T E^{n},\n",
    "B^{n} + \\frac{1}{2} D^T E^{n}\\big\\rangle.\n",
    "\\end{equation}\n",
    "\n",
    "Any of the three equivalent formulas can be used in the code as an energy diagnostic."
   ]
  },
  {
   "cell_type": "code",
   "execution_count": 10,
   "metadata": {},
   "outputs": [],
   "source": [
    "def yee_scheme(L, a, N, Cp, T, plot_interval):\n",
    "        \n",
    "    #--------------------------------------------------------\n",
    "    # SETUP\n",
    "    #--------------------------------------------------------\n",
    "\n",
    "    # Exact solution\n",
    "    f = exact_solution(0, L, a)\n",
    "\n",
    "    # Staggered grid (E is on primal grid, B is on dual grid)\n",
    "    dx, x_prim, x_dual = staggered_grid(0, L, N)\n",
    "\n",
    "    # Time step size\n",
    "    dt = Cp * dx\n",
    "    \n",
    "    # number of time steps\n",
    "    nsteps = int(round(float(T)/dt))\n",
    "\n",
    "    # Initial time and initial conditions\n",
    "    t = 0\n",
    "    E = f(t, x_prim)  # solution array (E_{i})_i\n",
    "    B = f(t, x_dual)  # solution array (B_{i+1/2})_i\n",
    "\n",
    "    # Compute energy at t=0\n",
    "    ts = [t]\n",
    "    energies = [energy(dx, E, B)]\n",
    "\n",
    "\n",
    "    #--------------------------------------------------------\n",
    "    # SOLUTION\n",
    "    #--------------------------------------------------------\n",
    "\n",
    "    # Push B backward in time by half time-step\n",
    "    step_B(-dt/2, dx, E, B)\n",
    "\n",
    "    # Time loop\n",
    "    for i in range(nsteps):\n",
    "\n",
    "        # Advance both E and B by one time-step\n",
    "        step_B(dt, dx, E, B)  # Bring B from t - ∆t/2 to t + ∆t/2\n",
    "        step_E(dt, dx, E, B)  # Bring E from t to t + ∆t\n",
    "        t += dt\n",
    "\n",
    "        #... Diagnostics\n",
    "        if i % plot_interval == 0 or i == nsteps-1:\n",
    "\n",
    "            # Bring B to same time instant as E\n",
    "            step_B(dt/2, dx, E, B)\n",
    "\n",
    "            # Compute energy\n",
    "            ts.append(t)\n",
    "            energies.append(energy(dx, E, B))\n",
    "\n",
    "            # Push B back by half time-step\n",
    "            step_B(-dt/2, dx, E, B)\n",
    "        #...\n",
    "\n",
    "    # Bring B to same time instant as E\n",
    "    step_B(dt/2, dx, E, B)\n",
    "    \n",
    "    plt.plot(ts, energies, '-b', label='Energy')\n",
    "    plt.legend();"
   ]
  },
  {
   "cell_type": "code",
   "execution_count": 11,
   "metadata": {},
   "outputs": [
    {
     "data": {
      "image/png": "[encoded data removed]",
      "text/plain": [
       "<Figure size 432x288 with 1 Axes>"
      ]
     },
     "metadata": {
      "needs_background": "light"
     },
     "output_type": "display_data"
    }
   ],
   "source": [
    "yee_scheme(L=1.0, a=3, N=100, Cp=0.75, T=1., plot_interval=1)"
   ]
  },
  {
   "cell_type": "markdown",
   "metadata": {},
   "source": [
    "**What happens when you increase Cp?**"
   ]
  }
 ],
 "metadata": {
  "kernelspec": {
   "display_name": "Python 3",
   "language": "python",
   "name": "python3"
  },
  "language_info": {
   "codemirror_mode": {
    "name": "ipython",
    "version": 3
   },
   "file_extension": ".py",
   "mimetype": "text/x-python",
   "name": "python",
   "nbconvert_exporter": "python",
   "pygments_lexer": "ipython3",
   "version": "3.6.9"
  },
  "toc-autonumbering": false,
  "toc-showcode": false,
  "toc-showmarkdowntxt": false,
  "toc-showtags": false
 },
 "nbformat": 4,
 "nbformat_minor": 2
}
